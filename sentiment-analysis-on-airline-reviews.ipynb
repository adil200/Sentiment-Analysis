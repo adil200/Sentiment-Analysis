{
 "cells": [
  {
   "cell_type": "code",
   "execution_count": 1,
   "id": "1d4a19e3",
   "metadata": {
    "_cell_guid": "b1076dfc-b9ad-4769-8c92-a6c4dae69d19",
    "_uuid": "8f2839f25d086af736a60e9eeb907d3b93b6e0e5",
    "execution": {
     "iopub.execute_input": "2023-08-13T13:09:02.750647Z",
     "iopub.status.busy": "2023-08-13T13:09:02.750218Z",
     "iopub.status.idle": "2023-08-13T13:09:02.771734Z",
     "shell.execute_reply": "2023-08-13T13:09:02.770287Z"
    },
    "papermill": {
     "duration": 0.028835,
     "end_time": "2023-08-13T13:09:02.774709",
     "exception": false,
     "start_time": "2023-08-13T13:09:02.745874",
     "status": "completed"
    },
    "tags": []
   },
   "outputs": [
    {
     "name": "stdout",
     "output_type": "stream",
     "text": [
      "/kaggle/input/airline-reviews/Airline_Reviews.csv\n"
     ]
    }
   ],
   "source": [
    "import os\n",
    "for dirname, _, filenames in os.walk('/kaggle/input'):\n",
    "    for filename in filenames:\n",
    "        print(os.path.join(dirname, filename))"
   ]
  },
  {
   "cell_type": "code",
   "execution_count": 2,
   "id": "de21cd5e",
   "metadata": {
    "execution": {
     "iopub.execute_input": "2023-08-13T13:09:02.781167Z",
     "iopub.status.busy": "2023-08-13T13:09:02.780748Z",
     "iopub.status.idle": "2023-08-13T13:09:54.061933Z",
     "shell.execute_reply": "2023-08-13T13:09:54.060850Z"
    },
    "papermill": {
     "duration": 51.289425,
     "end_time": "2023-08-13T13:09:54.066523",
     "exception": false,
     "start_time": "2023-08-13T13:09:02.777098",
     "status": "completed"
    },
    "tags": []
   },
   "outputs": [
    {
     "name": "stderr",
     "output_type": "stream",
     "text": [
      "/opt/conda/lib/python3.10/site-packages/scipy/__init__.py:146: UserWarning: A NumPy version >=1.16.5 and <1.23.0 is required for this version of SciPy (detected version 1.23.5\n",
      "  warnings.warn(f\"A NumPy version >={np_minversion} and <{np_maxversion}\"\n",
      "/opt/conda/lib/python3.10/site-packages/nltk/twitter/__init__.py:20: UserWarning: The twython library has not been installed. Some functionality from the twitter package will not be available.\n",
      "  warnings.warn(\"The twython library has not been installed. \"\n"
     ]
    },
    {
     "name": "stdout",
     "output_type": "stream",
     "text": [
      "[nltk_data] Downloading package vader_lexicon to\n",
      "[nltk_data]     /usr/share/nltk_data...\n",
      "[nltk_data]   Package vader_lexicon is already up-to-date!\n",
      "Sentiment Analysis Results:\n",
      "                                              Review Sentiment_Label  \\\n",
      "0    Moroni to Moheli. Turned out to be a pretty ...        Positive   \n",
      "1   Moroni to Anjouan. It is a very small airline...        Negative   \n",
      "2    Anjouan to Dzaoudzi. A very small airline an...        Positive   \n",
      "3    Please do a favor yourself and do not fly wi...        Negative   \n",
      "4   Do not book a flight with this airline! My fr...        Negative   \n",
      "5    Had very bad experience with rerouted and ca...        Negative   \n",
      "6    Ljubljana to Zürich. Firstly, Ljubljana airp...        Negative   \n",
      "7    First of all, I am not complaining about a s...        Negative   \n",
      "8    Worst Airline ever! They combined two flight...        Negative   \n",
      "9   Ljubljana to Munich. The homebase airport of ...        Positive   \n",
      "\n",
      "   Sentiment_Score  \n",
      "0           0.9192  \n",
      "1          -0.7518  \n",
      "2           0.7569  \n",
      "3          -0.9600  \n",
      "4          -0.1416  \n",
      "5          -0.6106  \n",
      "6          -0.9617  \n",
      "7          -0.8216  \n",
      "8          -0.2942  \n",
      "9           0.8514  \n"
     ]
    }
   ],
   "source": [
    "import pandas as pd\n",
    "import nltk\n",
    "from nltk.sentiment.vader import SentimentIntensityAnalyzer\n",
    "\n",
    "# Loading the airline reviews dataset\n",
    "df = pd.read_csv('/kaggle/input/airline-reviews/Airline_Reviews.csv')\n",
    "\n",
    "# Initializing the VADER sentiment analyzer\n",
    "nltk.download('vader_lexicon')  # Download the VADER lexicon\n",
    "sia = SentimentIntensityAnalyzer()\n",
    "\n",
    "# Initializing lists to store sentiment labels and scores\n",
    "sentiment_labels = []\n",
    "sentiment_scores = []\n",
    "\n",
    "# Processing each review and perform sentiment analysis\n",
    "for i in range(len(df)):  # Use range (0, 50)\n",
    "    review = df['Review'][i]\n",
    "    sentiment_score = sia.polarity_scores(review)['compound']\n",
    "    \n",
    "    # Determining sentiment label based on sentiment score\n",
    "    if sentiment_score > 0.05:\n",
    "        sentiment_labels.append('Positive')\n",
    "    elif sentiment_score < -0.05:\n",
    "        sentiment_labels.append('Negative')\n",
    "    else:\n",
    "        sentiment_labels.append('Neutral')\n",
    "    \n",
    "    sentiment_scores.append(sentiment_score)\n",
    "\n",
    "# Creating a new DataFrame with the sentiment analysis results\n",
    "sentiment_df = pd.DataFrame({\n",
    "    'Review': df['Review'],\n",
    "    'Sentiment_Label': sentiment_labels,\n",
    "    'Sentiment_Score': sentiment_scores\n",
    "})\n",
    "\n",
    "# Printing the sentiment analysis results for the first 10 reviews\n",
    "print(\"Sentiment Analysis Results:\")\n",
    "print(sentiment_df[['Review', 'Sentiment_Label', 'Sentiment_Score']].head(10))\n"
   ]
  }
 ],
 "metadata": {
  "kernelspec": {
   "display_name": "Python 3",
   "language": "python",
   "name": "python3"
  },
  "language_info": {
   "codemirror_mode": {
    "name": "ipython",
    "version": 3
   },
   "file_extension": ".py",
   "mimetype": "text/x-python",
   "name": "python",
   "nbconvert_exporter": "python",
   "pygments_lexer": "ipython3",
   "version": "3.10.12"
  },
  "papermill": {
   "default_parameters": {},
   "duration": 65.314001,
   "end_time": "2023-08-13T13:09:55.193433",
   "environment_variables": {},
   "exception": null,
   "input_path": "__notebook__.ipynb",
   "output_path": "__notebook__.ipynb",
   "parameters": {},
   "start_time": "2023-08-13T13:08:49.879432",
   "version": "2.4.0"
  }
 },
 "nbformat": 4,
 "nbformat_minor": 5
}
